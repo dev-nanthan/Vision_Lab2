{
  "nbformat": 4,
  "nbformat_minor": 0,
  "metadata": {
    "colab": {
      "provenance": [],
      "authorship_tag": "ABX9TyOuIW/5UKCaNCDvsUmD5QI4"
    },
    "kernelspec": {
      "name": "python3",
      "display_name": "Python 3"
    },
    "language_info": {
      "name": "python"
    }
  },
  "cells": [
    {
      "cell_type": "markdown",
      "source": [
        "# Lab2 - Spatial Filtering"
      ],
      "metadata": {
        "id": "1W6262Meaq4J"
      }
    },
    {
      "cell_type": "code",
      "source": [],
      "metadata": {
        "id": "FGLCllsMbAJj"
      },
      "execution_count": null,
      "outputs": []
    },
    {
      "cell_type": "markdown",
      "source": [
        "## Task 1 & 2: Download Images, Develop a function that will perform the spatial filtering operations below. The function should take an image and the kernel as inputs and return the filtered image."
      ],
      "metadata": {
        "id": "9j3MTAXVa88Z"
      }
    },
    {
      "cell_type": "code",
      "source": [],
      "metadata": {
        "id": "SDNIE66gbIgX"
      },
      "execution_count": null,
      "outputs": []
    }
  ]
}